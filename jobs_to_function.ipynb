{
 "cells": [
  {
   "cell_type": "code",
   "execution_count": 2,
   "source": [
    "# set up\n",
    "\n",
    "import pandas as pd\n",
    "\n",
    "# needed to convert strings to vectors\n",
    "from sklearn.feature_extraction.text import CountVectorizer\n",
    "from sklearn.feature_extraction.text import HashingVectorizer\n",
    "\n",
    "\n",
    "# import classifiers\n",
    "from sklearn.ensemble import RandomForestClassifier\n",
    "from sklearn.naive_bayes import MultinomialNB\n",
    "from sklearn.tree import DecisionTreeClassifier\n",
    "from sklearn.ensemble import ExtraTreesClassifier\n",
    "\n",
    "# to create random train and test subsets\n",
    "from sklearn.model_selection import train_test_split\n",
    "\n",
    "# metrics are used to find accuracy or error\n",
    "from sklearn import metrics\n",
    "\n",
    "# for tokenizing and stemming \n",
    "from nltk.tokenize import word_tokenize\n",
    "from nltk.stem import PorterStemmer\n"
   ],
   "outputs": [],
   "metadata": {}
  },
  {
   "cell_type": "code",
   "execution_count": 3,
   "source": [
    "df_jobs = pd.read_excel('./job_titles.xlsx', sheet_name='jobs', index_col='job_title')\n",
    "\n",
    "df_jobs.head()"
   ],
   "outputs": [
    {
     "output_type": "execute_result",
     "data": {
      "text/plain": [
       "                                functional_group_code  management_level_code\n",
       "job_title                                                                   \n",
       "Director IT                                         2                      0\n",
       "Graphic Designer                                    3                      1\n",
       "Manager Bus Systems/Operations                      1                      2\n",
       "Manager IT                                          2                      2\n",
       "Product Specialist                                  3                      1"
      ],
      "text/html": [
       "<div>\n",
       "<style scoped>\n",
       "    .dataframe tbody tr th:only-of-type {\n",
       "        vertical-align: middle;\n",
       "    }\n",
       "\n",
       "    .dataframe tbody tr th {\n",
       "        vertical-align: top;\n",
       "    }\n",
       "\n",
       "    .dataframe thead th {\n",
       "        text-align: right;\n",
       "    }\n",
       "</style>\n",
       "<table border=\"1\" class=\"dataframe\">\n",
       "  <thead>\n",
       "    <tr style=\"text-align: right;\">\n",
       "      <th></th>\n",
       "      <th>functional_group_code</th>\n",
       "      <th>management_level_code</th>\n",
       "    </tr>\n",
       "    <tr>\n",
       "      <th>job_title</th>\n",
       "      <th></th>\n",
       "      <th></th>\n",
       "    </tr>\n",
       "  </thead>\n",
       "  <tbody>\n",
       "    <tr>\n",
       "      <th>Director IT</th>\n",
       "      <td>2</td>\n",
       "      <td>0</td>\n",
       "    </tr>\n",
       "    <tr>\n",
       "      <th>Graphic Designer</th>\n",
       "      <td>3</td>\n",
       "      <td>1</td>\n",
       "    </tr>\n",
       "    <tr>\n",
       "      <th>Manager Bus Systems/Operations</th>\n",
       "      <td>1</td>\n",
       "      <td>2</td>\n",
       "    </tr>\n",
       "    <tr>\n",
       "      <th>Manager IT</th>\n",
       "      <td>2</td>\n",
       "      <td>2</td>\n",
       "    </tr>\n",
       "    <tr>\n",
       "      <th>Product Specialist</th>\n",
       "      <td>3</td>\n",
       "      <td>1</td>\n",
       "    </tr>\n",
       "  </tbody>\n",
       "</table>\n",
       "</div>"
      ]
     },
     "metadata": {},
     "execution_count": 3
    }
   ],
   "metadata": {}
  },
  {
   "cell_type": "code",
   "execution_count": 4,
   "source": [
    "df_functions = pd.read_excel('./job_titles.xlsx', sheet_name='functional_groups', index_col='functional_group_code')\n",
    "\n",
    "df_functions.head()"
   ],
   "outputs": [
    {
     "output_type": "execute_result",
     "data": {
      "text/plain": [
       "                         functional_group\n",
       "functional_group_code                    \n",
       "0                            Architecture\n",
       "1                      Business Analytics\n",
       "2                             Engineering\n",
       "3                                 Product\n",
       "4                      Project Management"
      ],
      "text/html": [
       "<div>\n",
       "<style scoped>\n",
       "    .dataframe tbody tr th:only-of-type {\n",
       "        vertical-align: middle;\n",
       "    }\n",
       "\n",
       "    .dataframe tbody tr th {\n",
       "        vertical-align: top;\n",
       "    }\n",
       "\n",
       "    .dataframe thead th {\n",
       "        text-align: right;\n",
       "    }\n",
       "</style>\n",
       "<table border=\"1\" class=\"dataframe\">\n",
       "  <thead>\n",
       "    <tr style=\"text-align: right;\">\n",
       "      <th></th>\n",
       "      <th>functional_group</th>\n",
       "    </tr>\n",
       "    <tr>\n",
       "      <th>functional_group_code</th>\n",
       "      <th></th>\n",
       "    </tr>\n",
       "  </thead>\n",
       "  <tbody>\n",
       "    <tr>\n",
       "      <th>0</th>\n",
       "      <td>Architecture</td>\n",
       "    </tr>\n",
       "    <tr>\n",
       "      <th>1</th>\n",
       "      <td>Business Analytics</td>\n",
       "    </tr>\n",
       "    <tr>\n",
       "      <th>2</th>\n",
       "      <td>Engineering</td>\n",
       "    </tr>\n",
       "    <tr>\n",
       "      <th>3</th>\n",
       "      <td>Product</td>\n",
       "    </tr>\n",
       "    <tr>\n",
       "      <th>4</th>\n",
       "      <td>Project Management</td>\n",
       "    </tr>\n",
       "  </tbody>\n",
       "</table>\n",
       "</div>"
      ]
     },
     "metadata": {},
     "execution_count": 4
    }
   ],
   "metadata": {}
  },
  {
   "cell_type": "code",
   "execution_count": 5,
   "source": [
    "df_levels = pd.read_excel('./job_titles.xlsx', sheet_name='management_levels', index_col='management_level_code')\n",
    "\n",
    "df_levels.head()"
   ],
   "outputs": [
    {
     "output_type": "execute_result",
     "data": {
      "text/plain": [
       "                      management_level\n",
       "management_level_code                 \n",
       "0                             Director\n",
       "1                                   IC\n",
       "2                              Manager\n",
       "3                       VP (and above)"
      ],
      "text/html": [
       "<div>\n",
       "<style scoped>\n",
       "    .dataframe tbody tr th:only-of-type {\n",
       "        vertical-align: middle;\n",
       "    }\n",
       "\n",
       "    .dataframe tbody tr th {\n",
       "        vertical-align: top;\n",
       "    }\n",
       "\n",
       "    .dataframe thead th {\n",
       "        text-align: right;\n",
       "    }\n",
       "</style>\n",
       "<table border=\"1\" class=\"dataframe\">\n",
       "  <thead>\n",
       "    <tr style=\"text-align: right;\">\n",
       "      <th></th>\n",
       "      <th>management_level</th>\n",
       "    </tr>\n",
       "    <tr>\n",
       "      <th>management_level_code</th>\n",
       "      <th></th>\n",
       "    </tr>\n",
       "  </thead>\n",
       "  <tbody>\n",
       "    <tr>\n",
       "      <th>0</th>\n",
       "      <td>Director</td>\n",
       "    </tr>\n",
       "    <tr>\n",
       "      <th>1</th>\n",
       "      <td>IC</td>\n",
       "    </tr>\n",
       "    <tr>\n",
       "      <th>2</th>\n",
       "      <td>Manager</td>\n",
       "    </tr>\n",
       "    <tr>\n",
       "      <th>3</th>\n",
       "      <td>VP (and above)</td>\n",
       "    </tr>\n",
       "  </tbody>\n",
       "</table>\n",
       "</div>"
      ]
     },
     "metadata": {},
     "execution_count": 5
    }
   ],
   "metadata": {}
  },
  {
   "cell_type": "code",
   "execution_count": 6,
   "source": [
    "job_titles = list(df_jobs.index)\n",
    "\n",
    "job_functions = list(df_jobs['functional_group_code'])\n",
    "\n",
    "job_levels = list(df_jobs['management_level_code'])\n"
   ],
   "outputs": [],
   "metadata": {}
  },
  {
   "cell_type": "code",
   "execution_count": 7,
   "source": [
    "# #stem job titles\n",
    "# stemmed_jobs=[]\n",
    "\n",
    "# for job in job_titles:\n",
    "#     stemmed_job=\"\"\n",
    "#     words = word_tokenize(job)\n",
    "#     for word in words:\n",
    "#         word = PorterStemmer().stem(word)\n",
    "#         stemmed_job = stemmed_job + \" \" + word\n",
    "#     stemmed_jobs.append(stemmed_job.strip())\n",
    "    "
   ],
   "outputs": [],
   "metadata": {}
  },
  {
   "cell_type": "code",
   "execution_count": 8,
   "source": [
    "# create train and test sets\n",
    "X_train, X_test, y_train, y_test = train_test_split(job_titles, job_functions, random_state=42)\n"
   ],
   "outputs": [],
   "metadata": {}
  },
  {
   "cell_type": "code",
   "execution_count": 30,
   "source": [
    "stop_list = ['sr', 'senior', 'staff', 'i', 'ii', 'iii', 'iv', 'v', 'vi', 'exempt']"
   ],
   "outputs": [],
   "metadata": {}
  },
  {
   "cell_type": "code",
   "execution_count": 28,
   "source": [
    "# Create a Vectorizer object\n",
    "vectorizer = CountVectorizer(stop_words=stop_list, ngram_range=(1,2))\n",
    "  \n",
    "vectorizer.fit(X_train)\n",
    "  \n",
    "# # Printing the identified unique words along with their indices\n",
    "# print(\"Vocabulary: \", vectorizer.vocabulary_)\n",
    "  \n",
    "# Encode the train and test documents\n",
    "X_train_vector = vectorizer.transform(X_train)\n",
    "X_test_vector = vectorizer.transform(X_test)\n",
    "  \n",
    "# # summarizing the encoded texts\n",
    "# print(\"Encoded Document is:\")\n",
    "# print(X_test_vector.toarray())\n",
    "\n"
   ],
   "outputs": [],
   "metadata": {}
  },
  {
   "cell_type": "code",
   "execution_count": 29,
   "source": [
    "# creating a RF classifier\n",
    "clf = RandomForestClassifier(n_estimators=1000, random_state=42)\n",
    "\n",
    "# Training the model on the training dataset\n",
    "clf.fit(X_train_vector, y_train)\n",
    "\n",
    "# performing predictions on the test dataset\n",
    "y_pred = clf.predict(X_test_vector)\n",
    "\n",
    "# using metrics module for accuracy calculation\n",
    "print(\"ACCURACY OF THE MODEL: \", metrics.accuracy_score(y_test, y_pred))"
   ],
   "outputs": [
    {
     "output_type": "stream",
     "name": "stdout",
     "text": [
      "ACCURACY OF THE MODEL:  0.9337931034482758\n"
     ]
    }
   ],
   "metadata": {}
  },
  {
   "cell_type": "code",
   "execution_count": 23,
   "source": [
    "df_results = pd.DataFrame({'job': X_test, 'predicted': y_pred, 'actual': y_test})\n",
    "\n"
   ],
   "outputs": [],
   "metadata": {}
  },
  {
   "cell_type": "code",
   "execution_count": 73,
   "source": [
    "df_results = df_results.merge(df_functions, how='left', left_on='predicted', right_index=True)\n",
    "df_results.rename(columns = {'functional_group': 'function_predicted'}, inplace=True)\n",
    "df_results = df_results.merge(df_functions, how='left', left_on='actual', right_index=True)\n",
    "df_results.rename(columns = {'functional_group': 'function_actual'}, inplace=True)\n",
    "\n",
    "df_results.head()"
   ],
   "outputs": [
    {
     "output_type": "execute_result",
     "data": {
      "text/plain": [
       "                                                 job  predicted  actual  \\\n",
       "0        Business Development Specialist, Consultant          6       6   \n",
       "1                            Systems Engineer, Staff          2       2   \n",
       "2                     VP, Operations, Open Solutions          6       6   \n",
       "3  PM Implementation Project Management III (Non-...          4       4   \n",
       "4                         Project Manager, Team Lead          4       4   \n",
       "\n",
       "   function_predicted     function_actual  \n",
       "0               Other               Other  \n",
       "1         Engineering         Engineering  \n",
       "2               Other               Other  \n",
       "3  Project Management  Project Management  \n",
       "4  Project Management  Project Management  "
      ],
      "text/html": [
       "<div>\n",
       "<style scoped>\n",
       "    .dataframe tbody tr th:only-of-type {\n",
       "        vertical-align: middle;\n",
       "    }\n",
       "\n",
       "    .dataframe tbody tr th {\n",
       "        vertical-align: top;\n",
       "    }\n",
       "\n",
       "    .dataframe thead th {\n",
       "        text-align: right;\n",
       "    }\n",
       "</style>\n",
       "<table border=\"1\" class=\"dataframe\">\n",
       "  <thead>\n",
       "    <tr style=\"text-align: right;\">\n",
       "      <th></th>\n",
       "      <th>job</th>\n",
       "      <th>predicted</th>\n",
       "      <th>actual</th>\n",
       "      <th>function_predicted</th>\n",
       "      <th>function_actual</th>\n",
       "    </tr>\n",
       "  </thead>\n",
       "  <tbody>\n",
       "    <tr>\n",
       "      <th>0</th>\n",
       "      <td>Business Development Specialist, Consultant</td>\n",
       "      <td>6</td>\n",
       "      <td>6</td>\n",
       "      <td>Other</td>\n",
       "      <td>Other</td>\n",
       "    </tr>\n",
       "    <tr>\n",
       "      <th>1</th>\n",
       "      <td>Systems Engineer, Staff</td>\n",
       "      <td>2</td>\n",
       "      <td>2</td>\n",
       "      <td>Engineering</td>\n",
       "      <td>Engineering</td>\n",
       "    </tr>\n",
       "    <tr>\n",
       "      <th>2</th>\n",
       "      <td>VP, Operations, Open Solutions</td>\n",
       "      <td>6</td>\n",
       "      <td>6</td>\n",
       "      <td>Other</td>\n",
       "      <td>Other</td>\n",
       "    </tr>\n",
       "    <tr>\n",
       "      <th>3</th>\n",
       "      <td>PM Implementation Project Management III (Non-...</td>\n",
       "      <td>4</td>\n",
       "      <td>4</td>\n",
       "      <td>Project Management</td>\n",
       "      <td>Project Management</td>\n",
       "    </tr>\n",
       "    <tr>\n",
       "      <th>4</th>\n",
       "      <td>Project Manager, Team Lead</td>\n",
       "      <td>4</td>\n",
       "      <td>4</td>\n",
       "      <td>Project Management</td>\n",
       "      <td>Project Management</td>\n",
       "    </tr>\n",
       "  </tbody>\n",
       "</table>\n",
       "</div>"
      ]
     },
     "metadata": {},
     "execution_count": 73
    }
   ],
   "metadata": {}
  }
 ],
 "metadata": {
  "kernelspec": {
   "display_name": "Python 3",
   "language": "python",
   "name": "python3"
  },
  "language_info": {
   "codemirror_mode": {
    "name": "ipython",
    "version": 3
   },
   "file_extension": ".py",
   "mimetype": "text/x-python",
   "name": "python",
   "nbconvert_exporter": "python",
   "pygments_lexer": "ipython3",
   "version": "3.8.5"
  }
 },
 "nbformat": 4,
 "nbformat_minor": 2
}