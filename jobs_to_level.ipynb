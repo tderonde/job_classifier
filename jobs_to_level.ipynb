{
    "cells": [
        {
            "cell_type": "code",
            "execution_count": 89,
            "source": [
                "import pandas as pd\n",
                "\n",
                "from sklearn.feature_extraction.text import CountVectorizer\n",
                "\n",
                "# importing random forest classifier\n",
                "from sklearn.ensemble import RandomForestClassifier\n",
                "\n",
                "# Spliting arrays or matrices into random train and test subsets\n",
                "from sklearn.model_selection import train_test_split\n",
                "\n",
                "# metrics are used to find accuracy or error\n",
                "from sklearn import metrics\n"
            ],
            "outputs": [],
            "metadata": {}
        },
        {
            "cell_type": "code",
            "execution_count": 90,
            "source": [
                "df_jobs = pd.read_excel('./job_titles.xlsx', sheet_name='jobs', index_col='job_title')\n",
                "\n",
                "df_jobs.head()"
            ],
            "outputs": [
                {
                    "output_type": "execute_result",
                    "data": {
                        "text/plain": [
                            "                                functional_group_code  management_level_code\n",
                            "job_title                                                                   \n",
                            "Director IT                                         2                      0\n",
                            "Graphic Designer                                    3                      1\n",
                            "Manager Bus Systems/Operations                      1                      2\n",
                            "Manager IT                                          2                      2\n",
                            "Product Specialist                                  3                      1"
                        ],
                        "text/html": [
                            "<div>\n",
                            "<style scoped>\n",
                            "    .dataframe tbody tr th:only-of-type {\n",
                            "        vertical-align: middle;\n",
                            "    }\n",
                            "\n",
                            "    .dataframe tbody tr th {\n",
                            "        vertical-align: top;\n",
                            "    }\n",
                            "\n",
                            "    .dataframe thead th {\n",
                            "        text-align: right;\n",
                            "    }\n",
                            "</style>\n",
                            "<table border=\"1\" class=\"dataframe\">\n",
                            "  <thead>\n",
                            "    <tr style=\"text-align: right;\">\n",
                            "      <th></th>\n",
                            "      <th>functional_group_code</th>\n",
                            "      <th>management_level_code</th>\n",
                            "    </tr>\n",
                            "    <tr>\n",
                            "      <th>job_title</th>\n",
                            "      <th></th>\n",
                            "      <th></th>\n",
                            "    </tr>\n",
                            "  </thead>\n",
                            "  <tbody>\n",
                            "    <tr>\n",
                            "      <th>Director IT</th>\n",
                            "      <td>2</td>\n",
                            "      <td>0</td>\n",
                            "    </tr>\n",
                            "    <tr>\n",
                            "      <th>Graphic Designer</th>\n",
                            "      <td>3</td>\n",
                            "      <td>1</td>\n",
                            "    </tr>\n",
                            "    <tr>\n",
                            "      <th>Manager Bus Systems/Operations</th>\n",
                            "      <td>1</td>\n",
                            "      <td>2</td>\n",
                            "    </tr>\n",
                            "    <tr>\n",
                            "      <th>Manager IT</th>\n",
                            "      <td>2</td>\n",
                            "      <td>2</td>\n",
                            "    </tr>\n",
                            "    <tr>\n",
                            "      <th>Product Specialist</th>\n",
                            "      <td>3</td>\n",
                            "      <td>1</td>\n",
                            "    </tr>\n",
                            "  </tbody>\n",
                            "</table>\n",
                            "</div>"
                        ]
                    },
                    "metadata": {},
                    "execution_count": 90
                }
            ],
            "metadata": {}
        },
        {
            "cell_type": "code",
            "execution_count": 91,
            "source": [
                "df_functions = pd.read_excel('./job_titles.xlsx', sheet_name='functional_groups', index_col='functional_group_code')\n",
                "\n",
                "df_functions.head()"
            ],
            "outputs": [
                {
                    "output_type": "execute_result",
                    "data": {
                        "text/plain": [
                            "                         functional_group\n",
                            "functional_group_code                    \n",
                            "0                            Architecture\n",
                            "1                      Business Analytics\n",
                            "2                             Engineering\n",
                            "3                                 Product\n",
                            "4                      Project Management"
                        ],
                        "text/html": [
                            "<div>\n",
                            "<style scoped>\n",
                            "    .dataframe tbody tr th:only-of-type {\n",
                            "        vertical-align: middle;\n",
                            "    }\n",
                            "\n",
                            "    .dataframe tbody tr th {\n",
                            "        vertical-align: top;\n",
                            "    }\n",
                            "\n",
                            "    .dataframe thead th {\n",
                            "        text-align: right;\n",
                            "    }\n",
                            "</style>\n",
                            "<table border=\"1\" class=\"dataframe\">\n",
                            "  <thead>\n",
                            "    <tr style=\"text-align: right;\">\n",
                            "      <th></th>\n",
                            "      <th>functional_group</th>\n",
                            "    </tr>\n",
                            "    <tr>\n",
                            "      <th>functional_group_code</th>\n",
                            "      <th></th>\n",
                            "    </tr>\n",
                            "  </thead>\n",
                            "  <tbody>\n",
                            "    <tr>\n",
                            "      <th>0</th>\n",
                            "      <td>Architecture</td>\n",
                            "    </tr>\n",
                            "    <tr>\n",
                            "      <th>1</th>\n",
                            "      <td>Business Analytics</td>\n",
                            "    </tr>\n",
                            "    <tr>\n",
                            "      <th>2</th>\n",
                            "      <td>Engineering</td>\n",
                            "    </tr>\n",
                            "    <tr>\n",
                            "      <th>3</th>\n",
                            "      <td>Product</td>\n",
                            "    </tr>\n",
                            "    <tr>\n",
                            "      <th>4</th>\n",
                            "      <td>Project Management</td>\n",
                            "    </tr>\n",
                            "  </tbody>\n",
                            "</table>\n",
                            "</div>"
                        ]
                    },
                    "metadata": {},
                    "execution_count": 91
                }
            ],
            "metadata": {}
        },
        {
            "cell_type": "code",
            "execution_count": 92,
            "source": [
                "df_levels = pd.read_excel('./job_titles.xlsx', sheet_name='management_levels', index_col='management_level_code')\n",
                "\n",
                "df_levels.head()"
            ],
            "outputs": [
                {
                    "output_type": "execute_result",
                    "data": {
                        "text/plain": [
                            "                      management_level\n",
                            "management_level_code                 \n",
                            "0                             Director\n",
                            "1                                   IC\n",
                            "2                              Manager\n",
                            "3                       VP (and above)"
                        ],
                        "text/html": [
                            "<div>\n",
                            "<style scoped>\n",
                            "    .dataframe tbody tr th:only-of-type {\n",
                            "        vertical-align: middle;\n",
                            "    }\n",
                            "\n",
                            "    .dataframe tbody tr th {\n",
                            "        vertical-align: top;\n",
                            "    }\n",
                            "\n",
                            "    .dataframe thead th {\n",
                            "        text-align: right;\n",
                            "    }\n",
                            "</style>\n",
                            "<table border=\"1\" class=\"dataframe\">\n",
                            "  <thead>\n",
                            "    <tr style=\"text-align: right;\">\n",
                            "      <th></th>\n",
                            "      <th>management_level</th>\n",
                            "    </tr>\n",
                            "    <tr>\n",
                            "      <th>management_level_code</th>\n",
                            "      <th></th>\n",
                            "    </tr>\n",
                            "  </thead>\n",
                            "  <tbody>\n",
                            "    <tr>\n",
                            "      <th>0</th>\n",
                            "      <td>Director</td>\n",
                            "    </tr>\n",
                            "    <tr>\n",
                            "      <th>1</th>\n",
                            "      <td>IC</td>\n",
                            "    </tr>\n",
                            "    <tr>\n",
                            "      <th>2</th>\n",
                            "      <td>Manager</td>\n",
                            "    </tr>\n",
                            "    <tr>\n",
                            "      <th>3</th>\n",
                            "      <td>VP (and above)</td>\n",
                            "    </tr>\n",
                            "  </tbody>\n",
                            "</table>\n",
                            "</div>"
                        ]
                    },
                    "metadata": {},
                    "execution_count": 92
                }
            ],
            "metadata": {}
        },
        {
            "cell_type": "code",
            "execution_count": 93,
            "source": [
                "job_titles = list(df_jobs.index)\n",
                "\n",
                "job_functions = list(df_jobs['functional_group_code'])\n",
                "\n",
                "job_levels = list(df_jobs['management_level_code'])\n"
            ],
            "outputs": [],
            "metadata": {}
        },
        {
            "cell_type": "code",
            "execution_count": 94,
            "source": [
                "# create train and test sets\n",
                "X_train, X_test, y_train, y_test = train_test_split(job_titles, job_levels, random_state=42)\n"
            ],
            "outputs": [],
            "metadata": {}
        },
        {
            "cell_type": "code",
            "execution_count": 95,
            "source": [
                "stop_list = ['sr', 'senior', 'staff', 'i', 'ii', 'iii', 'iv', 'v', 'vi', 'exempt']"
            ],
            "outputs": [],
            "metadata": {}
        },
        {
            "cell_type": "code",
            "execution_count": 96,
            "source": [
                "\n",
                "\n",
                "# Create a Vectorizer Object\n",
                "vectorizer = CountVectorizer(stop_words=stop_list, ngram_range=(1,1))\n",
                "  \n",
                "vectorizer.fit(X_train)\n",
                "  \n",
                "# # Printing the identified Unique words along with their indices\n",
                "# print(\"Vocabulary: \", vectorizer.vocabulary_)\n",
                "  \n",
                "# Encode the train and test Documents\n",
                "X_train_vector = vectorizer.transform(X_train)\n",
                "X_test_vector = vectorizer.transform(X_test)\n",
                "  \n",
                "# # Summarizing the Encoded Texts\n",
                "# print(\"Encoded Document is:\")\n",
                "# print(X_test_vector.toarray())\n"
            ],
            "outputs": [],
            "metadata": {}
        },
        {
            "cell_type": "code",
            "execution_count": 97,
            "source": [
                "# creating a RF classifier\n",
                "clf = RandomForestClassifier(random_state=42)\n",
                "\n",
                "# Training the model on the training dataset\n",
                "# fit function is used to train the model using the training sets as parameters\n",
                "clf.fit(X_train_vector, y_train)\n",
                "\n",
                "# performing predictions on the test dataset\n",
                "y_pred = clf.predict(X_test_vector)\n",
                "\n",
                "# using metrics module for accuracy calculation\n",
                "print(\"ACCURACY OF THE MODEL: \", metrics.accuracy_score(y_test, y_pred))"
            ],
            "outputs": [
                {
                    "output_type": "stream",
                    "name": "stdout",
                    "text": [
                        "ACCURACY OF THE MODEL:  0.9668965517241379\n"
                    ]
                }
            ],
            "metadata": {}
        },
        {
            "cell_type": "code",
            "execution_count": 98,
            "source": [
                "df_results = pd.DataFrame({'job': X_test, 'predicted': y_pred, 'actual': y_test})\n",
                "\n"
            ],
            "outputs": [],
            "metadata": {}
        },
        {
            "cell_type": "code",
            "execution_count": 99,
            "source": [
                "#df_results = df_results.merge(df_levels, how='left', left_on='predicted', right_index=True)\n",
                "\n",
                "df_results.head()"
            ],
            "outputs": [
                {
                    "output_type": "execute_result",
                    "data": {
                        "text/plain": [
                            "                                                 job  predicted  actual\n",
                            "0        Business Development Specialist, Consultant          1       1\n",
                            "1                            Systems Engineer, Staff          1       1\n",
                            "2                     VP, Operations, Open Solutions          3       3\n",
                            "3  PM Implementation Project Management III (Non-...          1       1\n",
                            "4                         Project Manager, Team Lead          1       2"
                        ],
                        "text/html": [
                            "<div>\n",
                            "<style scoped>\n",
                            "    .dataframe tbody tr th:only-of-type {\n",
                            "        vertical-align: middle;\n",
                            "    }\n",
                            "\n",
                            "    .dataframe tbody tr th {\n",
                            "        vertical-align: top;\n",
                            "    }\n",
                            "\n",
                            "    .dataframe thead th {\n",
                            "        text-align: right;\n",
                            "    }\n",
                            "</style>\n",
                            "<table border=\"1\" class=\"dataframe\">\n",
                            "  <thead>\n",
                            "    <tr style=\"text-align: right;\">\n",
                            "      <th></th>\n",
                            "      <th>job</th>\n",
                            "      <th>predicted</th>\n",
                            "      <th>actual</th>\n",
                            "    </tr>\n",
                            "  </thead>\n",
                            "  <tbody>\n",
                            "    <tr>\n",
                            "      <th>0</th>\n",
                            "      <td>Business Development Specialist, Consultant</td>\n",
                            "      <td>1</td>\n",
                            "      <td>1</td>\n",
                            "    </tr>\n",
                            "    <tr>\n",
                            "      <th>1</th>\n",
                            "      <td>Systems Engineer, Staff</td>\n",
                            "      <td>1</td>\n",
                            "      <td>1</td>\n",
                            "    </tr>\n",
                            "    <tr>\n",
                            "      <th>2</th>\n",
                            "      <td>VP, Operations, Open Solutions</td>\n",
                            "      <td>3</td>\n",
                            "      <td>3</td>\n",
                            "    </tr>\n",
                            "    <tr>\n",
                            "      <th>3</th>\n",
                            "      <td>PM Implementation Project Management III (Non-...</td>\n",
                            "      <td>1</td>\n",
                            "      <td>1</td>\n",
                            "    </tr>\n",
                            "    <tr>\n",
                            "      <th>4</th>\n",
                            "      <td>Project Manager, Team Lead</td>\n",
                            "      <td>1</td>\n",
                            "      <td>2</td>\n",
                            "    </tr>\n",
                            "  </tbody>\n",
                            "</table>\n",
                            "</div>"
                        ]
                    },
                    "metadata": {},
                    "execution_count": 99
                }
            ],
            "metadata": {}
        }
    ],
    "metadata": {
        "orig_nbformat": 4,
        "language_info": {
            "name": "python"
        }
    },
    "nbformat": 4,
    "nbformat_minor": 2
}